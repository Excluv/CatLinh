{
 "cells": [
  {
   "cell_type": "code",
   "execution_count": 3,
   "id": "a6fb12c1-650b-489a-846c-571d4aaf39f9",
   "metadata": {},
   "outputs": [],
   "source": [
    "import numpy as np\n",
    "import pandas as pd\n",
    "import openpyxl\n",
    "from openpyxl import Workbook\n",
    "from openpyxl.styles import Alignment\n",
    "from datetime import date"
   ]
  },
  {
   "cell_type": "code",
   "execution_count": 62,
   "id": "eb1aa8a9-97b4-4ed6-ab83-92cfcb4c5e40",
   "metadata": {},
   "outputs": [],
   "source": [
    "file = pd.read_excel(\"C:\\\\Users\\\\jio\\\\Desktop\\\\VCT10.xlsx\", header=0)"
   ]
  },
  {
   "cell_type": "code",
   "execution_count": 76,
   "id": "fae884f0-0f00-4412-ab43-6ef17e5cfa2b",
   "metadata": {},
   "outputs": [],
   "source": [
    "# Drop unnecessary columns, namely [\"Kích cỡ\", \"Khách hàng\", \"Tạm ứng\", \"Tổng cộng PVC\", \"Tổng cộng PNH\"]\n",
    "customer_df = file.drop(columns=file.columns[[0, 2, 9, 13, 16]])\n",
    "\n",
    "# Add a column that contains the sums of [\"Doanh thu vận chuyển\", \"Phí phát sinh\", \"Phí nâng\", \"Phí hạ\"]\n",
    "customer_df[\"Tổng cộng\"] = [0 for i in range(customer_df.index.size)]\n",
    "for idx in customer_df.index:\n",
    "    customer_df.loc[idx, [\"Tổng cộng\"]] = customer_df.iloc[idx, [7, 8, 10, 11]].sum()\n",
    "\n",
    "# Export the DataFrame to an Excel file\n",
    "path = \"C:\\\\Users\\\\jio\\\\Desktop\\\\LDP.xlsx\"\n",
    "customer_df.index.name = \"STT\"\n",
    "customer_df.index = customer_df.index + 1 # Reindex into a more readable one\n",
    "customer_df.to_excel(path,\n",
    "                     header=True, index=True,\n",
    "                     startrow=7)"
   ]
  },
  {
   "cell_type": "code",
   "execution_count": 90,
   "id": "6058f67d-57cf-4cf3-9a43-8774e8000154",
   "metadata": {},
   "outputs": [],
   "source": [
    "header = [\"CÔNG TY TNHH THƯƠNG MẠI DỊCH VẬN TẢI CÁT LINH\",\n",
    "          \"MST: 0306980684\", \"\",\n",
    "          \"BẢNG THỐNG KÊ VẬN CHUYỂN THÁNG 10/2022\", \"\",\n",
    "          \"Kính gửi: CÔNG TY TNHH LIÊN ĐẠI PHÁT\"]\n",
    "footer = [\"Cước vận chuyển:\", \"Phí phát sinh:\",\n",
    "          \"\", \"Phí nâng\", \"Phí hạ\", \"* Tổng cộng\"]\n",
    "add_details(path, customer_df, header, footer)"
   ]
  },
  {
   "cell_type": "code",
   "execution_count": 87,
   "id": "152471c2-58e3-4c73-8f65-ddfb10ec3cb0",
   "metadata": {},
   "outputs": [],
   "source": [
    "def insert_header(file, header, name):\n",
    "    xcel = file.active\n",
    "    for i in range(len(header)):\n",
    "        xcel.cell(row=i+1, column=1).value = header[i]\n",
    "        \n",
    "    if name == \"LDP\":\n",
    "        xcel.cell(row=4, column=1).alignment = Alignment(horizontal=\"center\")\n",
    "        xcel.merge_cells(\"A4:N4\")\n",
    "    else:\n",
    "        xcel.merge_cells(\"A1:Q1\")\n",
    "    \n",
    "    file.save(f\"C:\\\\Users\\\\jio\\\\Desktop\\\\{name}.xlsx\")"
   ]
  },
  {
   "cell_type": "code",
   "execution_count": 88,
   "id": "eb383f09-b8dd-4079-9ecb-15bfedfa92aa",
   "metadata": {},
   "outputs": [],
   "source": [
    "def insert_footer(file, footer, row, col, name):\n",
    "    xcel = file.active\n",
    "    \n",
    "    # Insert footer and do some cells merges\n",
    "    footer_idx = row + 2\n",
    "    for string in footer:\n",
    "        xcel.cell(row=footer_idx, column=1).value = string\n",
    "        xcel.merge_cells(f\"A{footer_idx}:C{footer_idx}\")\n",
    "        xcel.cell(row=footer_idx, column=4).value = \\\n",
    "                                            xcel.cell(row=row, column=col).value\n",
    "        xcel.merge_cells(f\"D{footer_idx}:E{footer_idx}\")\n",
    "        footer_idx += 1\n",
    "        col += 1\n",
    "    \n",
    "    if name == \"LDP\":\n",
    "        xcel.cell(row=footer_idx-1, column=1).alignment = Alignment(horizontal=\"center\")\n",
    "    \n",
    "    file.save(f\"C:\\\\Users\\\\jio\\\\Desktop\\\\{name}.xlsx\")"
   ]
  },
  {
   "cell_type": "code",
   "execution_count": 89,
   "id": "6e35dab7-4c48-4cbc-aefa-e3b6413b6893",
   "metadata": {},
   "outputs": [],
   "source": [
    "def add_details(file_path, df, header, footer, name=\"LDP\"):\n",
    "    file = openpyxl.load_workbook(file_path)\n",
    "    xcel = file.active\n",
    "    \n",
    "    row_idx = 8 + df.index.size # Default indexed row in the table\n",
    "    col_idx = 9 # Default indexed column of the table\n",
    "    if name == \"salary\":\n",
    "        row_idx = 5 + df.index.size\n",
    "        col_idx = 10\n",
    "    \n",
    "    # Modify the content and merge some columns \n",
    "    # of the last row in the main table\n",
    "    last_cell = xcel.cell(row=row_idx, column=1)\n",
    "    last_cell.value = \"Tổng cộng\"\n",
    "    last_cell.alignment = Alignment(horizontal=\"center\")\n",
    "    xcel.merge_cells(f\"A{row_idx}:H{row_idx}\")\n",
    "    \n",
    "    # Insert header and footer:\n",
    "    insert_header(file, header, name)\n",
    "    kwargs = dict(file=file, footer=footer, row=row_idx, col=col_idx, name=name)\n",
    "    insert_footer(**kwargs)\n",
    "        \n",
    "    file.save(f\"C:\\\\Users\\\\jio\\\\Desktop\\\\{name}.xlsx\")"
   ]
  },
  {
   "cell_type": "code",
   "execution_count": null,
   "id": "5ea6c48a-7119-4fa5-9ae8-2d4ab76fd543",
   "metadata": {},
   "outputs": [],
   "source": []
  }
 ],
 "metadata": {
  "kernelspec": {
   "display_name": "Python 3 (ipykernel)",
   "language": "python",
   "name": "python3"
  },
  "language_info": {
   "codemirror_mode": {
    "name": "ipython",
    "version": 3
   },
   "file_extension": ".py",
   "mimetype": "text/x-python",
   "name": "python",
   "nbconvert_exporter": "python",
   "pygments_lexer": "ipython3",
   "version": "3.10.4"
  }
 },
 "nbformat": 4,
 "nbformat_minor": 5
}
